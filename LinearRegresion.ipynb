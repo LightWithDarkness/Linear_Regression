{
  "nbformat": 4,
  "nbformat_minor": 0,
  "metadata": {
    "colab": {
      "provenance": [],
      "gpuType": "T4",
      "authorship_tag": "ABX9TyNzPbRSTzeufwxJvbrxjStl",
      "include_colab_link": true
    },
    "kernelspec": {
      "name": "python3",
      "display_name": "Python 3"
    },
    "language_info": {
      "name": "python"
    },
    "accelerator": "GPU"
  },
  "cells": [
    {
      "cell_type": "markdown",
      "metadata": {
        "id": "view-in-github",
        "colab_type": "text"
      },
      "source": [
        "<a href=\"https://colab.research.google.com/github/LightWithDarkness/Linear_Regression/blob/main/LinearRegresion.ipynb\" target=\"_parent\"><img src=\"https://colab.research.google.com/assets/colab-badge.svg\" alt=\"Open In Colab\"/></a>"
      ]
    },
    {
      "cell_type": "code",
      "source": [
        "#IMPORTS\n",
        "import torch\n",
        "import matplotlib.pyplot as plt\n",
        "from torch import nn\n",
        "\n",
        "#checking the version of pytorch\n",
        "torch.__version__"
      ],
      "metadata": {
        "colab": {
          "base_uri": "https://localhost:8080/",
          "height": 35
        },
        "id": "wBf2q1WYhrxR",
        "outputId": "3c0cb020-1200-4c2c-f9e1-647a2ccc9317"
      },
      "execution_count": null,
      "outputs": [
        {
          "output_type": "execute_result",
          "data": {
            "text/plain": [
              "'2.2.1+cu121'"
            ],
            "application/vnd.google.colaboratory.intrinsic+json": {
              "type": "string"
            }
          },
          "metadata": {},
          "execution_count": 1
        }
      ]
    },
    {
      "cell_type": "code",
      "source": [
        "# Create device-agnostic code\n",
        "#This means if we've got access to a GPU, our code will use it (for potentially faster computing)\n",
        "#If no GPU is available, the code will default to using CPU"
      ],
      "metadata": {
        "id": "tgg2NIkhhucr"
      },
      "execution_count": null,
      "outputs": []
    },
    {
      "cell_type": "code",
      "source": [
        "device = \"cuda\" if torch.cuda.is_available() else \"cpu\"\n",
        "print(f\"Device = {device}\")\n",
        "!nvidia-smi"
      ],
      "metadata": {
        "colab": {
          "base_uri": "https://localhost:8080/"
        },
        "id": "TgjNRUGJhvla",
        "outputId": "3f06a38d-9ec7-4714-840e-dbbc946410f4"
      },
      "execution_count": null,
      "outputs": [
        {
          "output_type": "stream",
          "name": "stdout",
          "text": [
            "Device = cuda\n",
            "Sat Apr 20 08:18:36 2024       \n",
            "+---------------------------------------------------------------------------------------+\n",
            "| NVIDIA-SMI 535.104.05             Driver Version: 535.104.05   CUDA Version: 12.2     |\n",
            "|-----------------------------------------+----------------------+----------------------+\n",
            "| GPU  Name                 Persistence-M | Bus-Id        Disp.A | Volatile Uncorr. ECC |\n",
            "| Fan  Temp   Perf          Pwr:Usage/Cap |         Memory-Usage | GPU-Util  Compute M. |\n",
            "|                                         |                      |               MIG M. |\n",
            "|=========================================+======================+======================|\n",
            "|   0  Tesla T4                       Off | 00000000:00:04.0 Off |                    0 |\n",
            "| N/A   49C    P8               9W /  70W |      3MiB / 15360MiB |      0%      Default |\n",
            "|                                         |                      |                  N/A |\n",
            "+-----------------------------------------+----------------------+----------------------+\n",
            "                                                                                         \n",
            "+---------------------------------------------------------------------------------------+\n",
            "| Processes:                                                                            |\n",
            "|  GPU   GI   CI        PID   Type   Process name                            GPU Memory |\n",
            "|        ID   ID                                                             Usage      |\n",
            "|=======================================================================================|\n",
            "|  No running processes found                                                           |\n",
            "+---------------------------------------------------------------------------------------+\n"
          ]
        }
      ]
    },
    {
      "cell_type": "markdown",
      "source": [
        "# 1.DATA\n"
      ],
      "metadata": {
        "id": "UGOat_exl0wz"
      }
    },
    {
      "cell_type": "code",
      "source": [
        "# Create 'known' parameters\n",
        "weight = 0.7\n",
        "bais = 0.3\n",
        "\n",
        "#crete range values\n",
        "start = 0\n",
        "end = 1\n",
        "x"
      ],
      "metadata": {
        "id": "QNjgdY0ehvsR"
      },
      "execution_count": null,
      "outputs": []
    },
    {
      "cell_type": "code",
      "execution_count": null,
      "metadata": {
        "colab": {
          "base_uri": "https://localhost:8080/",
          "height": 35
        },
        "id": "JwbiVZpyzExE",
        "outputId": "517e99d9-08f7-49f3-8d18-1e90f2b33aa8"
      },
      "outputs": [
        {
          "output_type": "execute_result",
          "data": {
            "text/plain": [
              "'2.2.1+cu121'"
            ],
            "application/vnd.google.colaboratory.intrinsic+json": {
              "type": "string"
            }
          },
          "metadata": {},
          "execution_count": 4
        }
      ],
      "source": [
        "import torch\n",
        "from torch import nn #neural network module\n",
        "import matplotlib.pyplot as plt\n",
        "\n",
        "torch.__version__"
      ]
    },
    {
      "cell_type": "code",
      "source": [
        "    # 1: \"data (prepare and load)\",\n",
        "    # 2: \"build model\",\n",
        "    # 3: \"fitting the model to data (training)\",\n",
        "    # 4: \"making predictions and evaluating a model (inference)\",\n",
        "    # 5: \"saving and loading a model\",\n",
        "    # 6: \"putting it all together\""
      ],
      "metadata": {
        "id": "PjxqCcsozK7d"
      },
      "execution_count": null,
      "outputs": []
    },
    {
      "cell_type": "markdown",
      "source": [
        "Machine learning is a game of two parts:\n",
        "\n",
        "1.Turn your data, whatever it is, into numbers (a representation).\n",
        "\n",
        "2.Pick or build a model to learn the representation as best as possible."
      ],
      "metadata": {
        "id": "3S-DFgMdzR2g"
      }
    },
    {
      "cell_type": "code",
      "source": [
        "#create *Known* parameters\n",
        "weight = 0.7\n",
        "bais = 0.3\n",
        "#create\n",
        "start = 0\n",
        "end = 1\n",
        "steps = 0.02\n",
        "x = torch.arange(start,end,steps).unsqueeze(dim=1)\n",
        "y= weight*x + bais\n",
        "x[:50], y[:50]\n"
      ],
      "metadata": {
        "colab": {
          "base_uri": "https://localhost:8080/"
        },
        "id": "uojppjQxzNUj",
        "outputId": "691dc065-9cd6-4c3a-92b5-1d89f4853142"
      },
      "execution_count": null,
      "outputs": [
        {
          "output_type": "execute_result",
          "data": {
            "text/plain": [
              "(tensor([[0.0000],\n",
              "         [0.0200],\n",
              "         [0.0400],\n",
              "         [0.0600],\n",
              "         [0.0800],\n",
              "         [0.1000],\n",
              "         [0.1200],\n",
              "         [0.1400],\n",
              "         [0.1600],\n",
              "         [0.1800],\n",
              "         [0.2000],\n",
              "         [0.2200],\n",
              "         [0.2400],\n",
              "         [0.2600],\n",
              "         [0.2800],\n",
              "         [0.3000],\n",
              "         [0.3200],\n",
              "         [0.3400],\n",
              "         [0.3600],\n",
              "         [0.3800],\n",
              "         [0.4000],\n",
              "         [0.4200],\n",
              "         [0.4400],\n",
              "         [0.4600],\n",
              "         [0.4800],\n",
              "         [0.5000],\n",
              "         [0.5200],\n",
              "         [0.5400],\n",
              "         [0.5600],\n",
              "         [0.5800],\n",
              "         [0.6000],\n",
              "         [0.6200],\n",
              "         [0.6400],\n",
              "         [0.6600],\n",
              "         [0.6800],\n",
              "         [0.7000],\n",
              "         [0.7200],\n",
              "         [0.7400],\n",
              "         [0.7600],\n",
              "         [0.7800],\n",
              "         [0.8000],\n",
              "         [0.8200],\n",
              "         [0.8400],\n",
              "         [0.8600],\n",
              "         [0.8800],\n",
              "         [0.9000],\n",
              "         [0.9200],\n",
              "         [0.9400],\n",
              "         [0.9600],\n",
              "         [0.9800]]),\n",
              " tensor([[0.3000],\n",
              "         [0.3140],\n",
              "         [0.3280],\n",
              "         [0.3420],\n",
              "         [0.3560],\n",
              "         [0.3700],\n",
              "         [0.3840],\n",
              "         [0.3980],\n",
              "         [0.4120],\n",
              "         [0.4260],\n",
              "         [0.4400],\n",
              "         [0.4540],\n",
              "         [0.4680],\n",
              "         [0.4820],\n",
              "         [0.4960],\n",
              "         [0.5100],\n",
              "         [0.5240],\n",
              "         [0.5380],\n",
              "         [0.5520],\n",
              "         [0.5660],\n",
              "         [0.5800],\n",
              "         [0.5940],\n",
              "         [0.6080],\n",
              "         [0.6220],\n",
              "         [0.6360],\n",
              "         [0.6500],\n",
              "         [0.6640],\n",
              "         [0.6780],\n",
              "         [0.6920],\n",
              "         [0.7060],\n",
              "         [0.7200],\n",
              "         [0.7340],\n",
              "         [0.7480],\n",
              "         [0.7620],\n",
              "         [0.7760],\n",
              "         [0.7900],\n",
              "         [0.8040],\n",
              "         [0.8180],\n",
              "         [0.8320],\n",
              "         [0.8460],\n",
              "         [0.8600],\n",
              "         [0.8740],\n",
              "         [0.8880],\n",
              "         [0.9020],\n",
              "         [0.9160],\n",
              "         [0.9300],\n",
              "         [0.9440],\n",
              "         [0.9580],\n",
              "         [0.9720],\n",
              "         [0.9860]]))"
            ]
          },
          "metadata": {},
          "execution_count": 6
        }
      ]
    },
    {
      "cell_type": "code",
      "source": [
        "len(x), len(y)"
      ],
      "metadata": {
        "colab": {
          "base_uri": "https://localhost:8080/"
        },
        "id": "I8OFfH0AzXYN",
        "outputId": "f18ac4d3-ec00-4017-c50e-72612cddd877"
      },
      "execution_count": null,
      "outputs": [
        {
          "output_type": "execute_result",
          "data": {
            "text/plain": [
              "(50, 50)"
            ]
          },
          "metadata": {},
          "execution_count": 7
        }
      ]
    },
    {
      "cell_type": "markdown",
      "source": [
        "###Split data into training and test sets\n",
        "\n",
        "One of most important steps in a machine learning project is creating a training and test set (and when required, a validation set)."
      ],
      "metadata": {
        "id": "vZBIHVfFzbhG"
      }
    },
    {
      "cell_type": "code",
      "source": [
        "# create a train/ test split 80%/20%\n",
        "train_split = int(0.8 * len(x))\n",
        "x_train, y_train = x[:train_split],y[:train_split]\n",
        "x_test, y_test = x[train_split:],y[train_split:]\n",
        "len(x_train),len(x_test),len(y_train),len(y_test)"
      ],
      "metadata": {
        "colab": {
          "base_uri": "https://localhost:8080/"
        },
        "id": "rVJ9zDsvzX3-",
        "outputId": "622f1200-bf0a-47fd-d505-0f14a9c99f1a"
      },
      "execution_count": null,
      "outputs": [
        {
          "output_type": "execute_result",
          "data": {
            "text/plain": [
              "(40, 10, 40, 10)"
            ]
          },
          "metadata": {},
          "execution_count": 8
        }
      ]
    },
    {
      "cell_type": "code",
      "source": [
        "def plot_predictions(train_data=x_train, train_labels=y_train, test_data=x_test,test_labels=y_test, predictions=None):\n",
        "\n",
        "  plt.figure(figsize = (10,7))\n",
        "\n",
        "  #plot training data in blue\n",
        "  plt.scatter(train_data, train_labels,c=\"b\",s=4,label=\"Training data\")\n",
        "\n",
        "  #plot testing data in green\n",
        "  plt.scatter(test_data, test_labels,c=\"g\",s=4,label=\"Training data\")\n",
        "\n",
        "  #Are there prediction?\n",
        "  if predictions is not None:\n",
        "    # Plot the predictions in red (predictions were made on the test data)\n",
        "    plt.scatter(test_data, predictions, c=\"r\", s=4, label=\"Predictions\")\n",
        "\n",
        "  plt.legend(prop={\"size\": 14});\n",
        "\n",
        "\n"
      ],
      "metadata": {
        "id": "k07w-xOdzenm"
      },
      "execution_count": null,
      "outputs": []
    },
    {
      "cell_type": "code",
      "source": [
        "plot_predictions()"
      ],
      "metadata": {
        "colab": {
          "base_uri": "https://localhost:8080/",
          "height": 461
        },
        "id": "YuU5P7g2zgjT",
        "outputId": "0fd7b22e-9c86-4d9a-e09f-d6de34c12f9e"
      },
      "execution_count": null,
      "outputs": [
        {
          "output_type": "display_data",
          "data": {
            "text/plain": [
              "<Figure size 1000x700 with 1 Axes>"
            ],
            "image/png": "[encoded data removed]"
          },
          "metadata": {}
        }
      ]
    },
    {
      "cell_type": "code",
      "source": [
        "# Create a Linear Regression model class\n",
        "class LinearRegressionModel(nn.Module): # <- almost everything in PyTorch is a nn.Module (think of this as neural network lego blocks)\n",
        "\n",
        "    def __init__(self):\n",
        "        super().__init__()\n",
        "\n",
        "        self.weights = nn.Parameter(torch.randn(1, # <- start with random weights (this will get adjusted as the model learns)\n",
        "                                                dtype=torch.float),\n",
        "                                   requires_grad=True) # <- can we update this value with gradient descent?)\n",
        "\n",
        "        self.bias = nn.Parameter(torch.randn(1,dtype=torch.float),\n",
        "                                requires_grad=True) # <- can we update this value with gradient descent?))\n",
        "\n",
        "    # Forward defines the computation in the model\n",
        "\n",
        "    def forward(self, x: torch.Tensor) -> torch.Tensor: # <- \"x\" is the input data training/testing features\n",
        "        return self.weights * x + self.bias # <- this is the linear regression formula (y = m*x + b)\n",
        "\n",
        "\n"
      ],
      "metadata": {
        "id": "VO3IrzY3zjDZ"
      },
      "execution_count": null,
      "outputs": []
    },
    {
      "cell_type": "code",
      "source": [
        "# creating a random seed\n",
        "torch.manual_seed(seed = 42)\n",
        "\n",
        "#creating an instance of the model\n",
        "model_0 = LinearRegressionModel()\n",
        "\n",
        "#checking parameters\n",
        "list(model_0.parameters())"
      ],
      "metadata": {
        "colab": {
          "base_uri": "https://localhost:8080/"
        },
        "id": "a7Z9W5vrzlQ_",
        "outputId": "1705efea-2b2e-4b32-ff62-2a9eb18d0e00"
      },
      "execution_count": null,
      "outputs": [
        {
          "output_type": "execute_result",
          "data": {
            "text/plain": [
              "[Parameter containing:\n",
              " tensor([0.3367], requires_grad=True),\n",
              " Parameter containing:\n",
              " tensor([0.1288], requires_grad=True)]"
            ]
          },
          "metadata": {},
          "execution_count": 12
        }
      ]
    },
    {
      "cell_type": "code",
      "source": [
        "# List of named Parameters\n",
        "model_0.state_dict()"
      ],
      "metadata": {
        "colab": {
          "base_uri": "https://localhost:8080/"
        },
        "id": "OawQz6pbzna9",
        "outputId": "5efb9138-4d53-4547-a770-1bdcfb979487"
      },
      "execution_count": null,
      "outputs": [
        {
          "output_type": "execute_result",
          "data": {
            "text/plain": [
              "OrderedDict([('weights', tensor([0.3367])), ('bias', tensor([0.1288]))])"
            ]
          },
          "metadata": {},
          "execution_count": 13
        }
      ]
    },
    {
      "cell_type": "code",
      "source": [
        "### Making predictions\n",
        "with torch.inference_mode():\n",
        "  y_pred = model_0(x_test)\n",
        "\n",
        "# Note: in older PyTorch code torch.no_grad() was used but inference_mode() is prefered\n",
        "# with torch.no_grad():\n",
        "#   y_preds = model_0(X_test)\n",
        "# Check the predictions\n",
        "print(f\"Number of testing samples: {len(x_test)}\")\n",
        "print(f\"Number of predictions made: {len(y_pred)}\")\n",
        "print(f\"prediction = ${y_pred}\")\n",
        "print(f\"actual = ${y_test}\")\n"
      ],
      "metadata": {
        "colab": {
          "base_uri": "https://localhost:8080/"
        },
        "id": "urzYsU9tzpiy",
        "outputId": "b8dac27a-4f7a-4fe2-b392-91c865014f5f"
      },
      "execution_count": null,
      "outputs": [
        {
          "output_type": "stream",
          "name": "stdout",
          "text": [
            "Number of testing samples: 10\n",
            "Number of predictions made: 10\n",
            "prediction = $tensor([[0.3982],\n",
            "        [0.4049],\n",
            "        [0.4116],\n",
            "        [0.4184],\n",
            "        [0.4251],\n",
            "        [0.4318],\n",
            "        [0.4386],\n",
            "        [0.4453],\n",
            "        [0.4520],\n",
            "        [0.4588]])\n",
            "actual = $tensor([[0.8600],\n",
            "        [0.8740],\n",
            "        [0.8880],\n",
            "        [0.9020],\n",
            "        [0.9160],\n",
            "        [0.9300],\n",
            "        [0.9440],\n",
            "        [0.9580],\n",
            "        [0.9720],\n",
            "        [0.9860]])\n"
          ]
        }
      ]
    },
    {
      "cell_type": "code",
      "source": [
        "plot_predictions(predictions = y_pred)"
      ],
      "metadata": {
        "colab": {
          "base_uri": "https://localhost:8080/",
          "height": 461
        },
        "id": "VXdfCMtPzrxW",
        "outputId": "c30ab11b-2002-4042-b6e0-1655c8fb1408"
      },
      "execution_count": null,
      "outputs": [
        {
          "output_type": "display_data",
          "data": {
            "text/plain": [
              "<Figure size 1000x700 with 1 Axes>"
            ],
            "image/png": "[encoded data removed]"
          },
          "metadata": {}
        }
      ]
    },
    {
      "cell_type": "markdown",
      "source": [
        "## 3. Train model\n",
        "\n",
        "The whole idea of training is for a model to move from some *unknown* parameters (these may be random) to some *known* parameters.\n",
        "\n",
        "Or in other words from a poor representation of the data to a better representation of the data.\n",
        "\n",
        "One way to measure how poor or how wrong your models predictions are is to use a loss function.\n",
        "\n",
        "\n",
        "* Note: Loss function may also be called cost function or criterion in different areas. For our case, we're going to refer to it as a loss function.\n",
        "\n",
        "\n",
        "Things we need to train:\n",
        "\n",
        "* **Loss function:** A function to measure how wrong your model's predictions are to the ideal outputs, lower is better.\n",
        "* **Optimizer:** Takes into account the loss of a model and adjusts the model's parameters (e.g. weight & bias) to improve.\n",
        "\n",
        "And specifically for pytorch we need:\n",
        "\n",
        "\n",
        "*   A training loop\n",
        "*   A testing loop\n",
        "\n",
        "\n"
      ],
      "metadata": {
        "id": "wdlfU3svzxgJ"
      }
    },
    {
      "cell_type": "code",
      "source": [
        "# Creating Loss function\n",
        "loss_fn = nn.L1Loss() #  Mean Absolute Error (MAE) loss is same as L1Loss\n",
        "\n",
        "#Creating an Optimizer\n",
        "optimizer = torch.optim.SGD(params=model_0.parameters(),# parameters of target model to optimize\n",
        "                            lr=0.001)# learning rate (how much the optimizer should change parameters at each step, higher=more (less stable), lower=less (might take a long time))\n"
      ],
      "metadata": {
        "id": "_pFdeyp2zuxF"
      },
      "execution_count": null,
      "outputs": []
    },
    {
      "cell_type": "markdown",
      "source": [
        "## Building a training loop (and a testing loop) in PyTorch\n",
        "\n",
        "A couple of things we need in a training loop:\n",
        "0. Loop through the data and do ....\n",
        "1. Forward pass (this involves data moving through our model's 'forward()' functions) to make predictions on data - also called forward propagation\n",
        "2. Calculate the loss (compare forward pass predictions to ground truth labels)\n",
        "3. Optimizer zero grad\n",
        "4. Loss backward - move backwards through the network to calculate the gradients of each of the parameters of our model with respect to the loss (**backpropagation**)\n",
        "5. Optimizer step - use the optimizer to adjust our model's parameters to try and improve the loss (**gradient descent**)\n"
      ],
      "metadata": {
        "id": "ziW0_RnGz4sP"
      }
    },
    {
      "cell_type": "code",
      "source": [
        "torch.manual_seed(42)\n",
        "\n",
        "# Set the number of epochs (how many times the model will pass over the training data)\n",
        "epochs = 100\n",
        "\n",
        "# Create empty loss lists to track values\n",
        "train_loss_values = []\n",
        "test_loss_values = []\n",
        "epoch_count = []\n",
        "\n",
        "def train_and_test_model(it):\n",
        "  # an epoch is one loop through the data (it is a hyperparameter i.e., setby us)\n",
        "  epochs = it # no.of times it will iterate.\n",
        "  # 0. Loop through the data\n",
        "  for epoch in range(epochs):\n",
        "\n",
        "    #Seting it to training mode\n",
        "    model_0.train()\n",
        "\n",
        "    # 1. emplenting forward pass\n",
        "    y_pred_new = model_0(x_train)\n",
        "\n",
        "    #2. Calulate the loss\n",
        "    loss = loss_fn(y_pred_new,y_train)\n",
        "    # print(f\"current loss = {loss}\")\n",
        "\n",
        "    # 3. Optimizer zero grad\n",
        "    optimizer.zero_grad()\n",
        "\n",
        "    # 4.perform backpropagation on the loss with respect to the parametes of the model\n",
        "    loss.backward()\n",
        "\n",
        "    # 5. step the optimizer (perform gradient desent)\n",
        "    optimizer.step() # by default how the optimizer changes will accumulate through the loop so,\n",
        "                    # we have to zero it in the step 3 above\n",
        "\n",
        "    # Put the model in evaluation mode\n",
        "    model_0.eval()\n",
        "\n",
        "    with torch.inference_mode():\n",
        "      # 1. Forward pass on test data\n",
        "      test_pred = model_0(x_test)\n",
        "\n",
        "      # 2. Caculate loss on test data\n",
        "      test_loss = loss_fn(test_pred, y_test.type(torch.float)) # predictions come in torch.float datatype, so comparisons need to be done with tensors of the same type\n",
        "\n",
        "      # Print out what's happening\n",
        "      if epoch % 10 == 0:\n",
        "            epoch_count.append(epoch)\n",
        "            train_loss_values.append(loss.detach().numpy())\n",
        "            test_loss_values.append(test_loss.detach().numpy())\n",
        "            print(f\"Epoch: {epoch} | MAE Train Loss: {loss} | MAE Test Loss: {test_loss} \")"
      ],
      "metadata": {
        "id": "vHoWnasfz131"
      },
      "execution_count": null,
      "outputs": []
    },
    {
      "cell_type": "code",
      "source": [
        "# initial Predictions\n",
        "plot_predictions(predictions = y_pred)"
      ],
      "metadata": {
        "colab": {
          "base_uri": "https://localhost:8080/",
          "height": 461
        },
        "id": "cwm4A7OC0BwO",
        "outputId": "7c7c5f37-7e6f-4db7-81ca-a80764e9a579"
      },
      "execution_count": null,
      "outputs": [
        {
          "output_type": "display_data",
          "data": {
            "text/plain": [
              "<Figure size 1000x700 with 1 Axes>"
            ],
            "image/png": "[encoded data removed]"
          },
          "metadata": {}
        }
      ]
    },
    {
      "cell_type": "code",
      "source": [
        "train_and_test_model(1700)"
      ],
      "metadata": {
        "colab": {
          "base_uri": "https://localhost:8080/"
        },
        "id": "KE4sNAcL0Eiv",
        "outputId": "75525685-c3a3-4baf-902d-352ad196ef7b"
      },
      "execution_count": null,
      "outputs": [
        {
          "output_type": "stream",
          "name": "stdout",
          "text": [
            "Epoch: 0 | MAE Train Loss: 0.31288138031959534 | MAE Test Loss: 0.4931890368461609 \n",
            "Epoch: 10 | MAE Train Loss: 0.3013603389263153 | MAE Test Loss: 0.4797181189060211 \n",
            "Epoch: 20 | MAE Train Loss: 0.28983938694000244 | MAE Test Loss: 0.4662471413612366 \n",
            "Epoch: 30 | MAE Train Loss: 0.2783183455467224 | MAE Test Loss: 0.4527761936187744 \n",
            "Epoch: 40 | MAE Train Loss: 0.26679736375808716 | MAE Test Loss: 0.43930521607398987 \n",
            "Epoch: 50 | MAE Train Loss: 0.2552763819694519 | MAE Test Loss: 0.4258342385292053 \n",
            "Epoch: 60 | MAE Train Loss: 0.24375538527965546 | MAE Test Loss: 0.41236335039138794 \n",
            "Epoch: 70 | MAE Train Loss: 0.232234388589859 | MAE Test Loss: 0.398892343044281 \n",
            "Epoch: 80 | MAE Train Loss: 0.22071340680122375 | MAE Test Loss: 0.38542139530181885 \n",
            "Epoch: 90 | MAE Train Loss: 0.2091923952102661 | MAE Test Loss: 0.3719504475593567 \n",
            "Epoch: 100 | MAE Train Loss: 0.19767141342163086 | MAE Test Loss: 0.35847947001457214 \n",
            "Epoch: 110 | MAE Train Loss: 0.18615040183067322 | MAE Test Loss: 0.34500852227211 \n",
            "Epoch: 120 | MAE Train Loss: 0.17462942004203796 | MAE Test Loss: 0.33153754472732544 \n",
            "Epoch: 130 | MAE Train Loss: 0.16310855746269226 | MAE Test Loss: 0.3180667459964752 \n",
            "Epoch: 140 | MAE Train Loss: 0.15158770978450775 | MAE Test Loss: 0.304595947265625 \n",
            "Epoch: 150 | MAE Train Loss: 0.14006686210632324 | MAE Test Loss: 0.2911251187324524 \n",
            "Epoch: 160 | MAE Train Loss: 0.12854602932929993 | MAE Test Loss: 0.2776543200016022 \n",
            "Epoch: 170 | MAE Train Loss: 0.11702518165111542 | MAE Test Loss: 0.26418352127075195 \n",
            "Epoch: 180 | MAE Train Loss: 0.10654274374246597 | MAE Test Loss: 0.251315176486969 \n",
            "Epoch: 190 | MAE Train Loss: 0.09747617691755295 | MAE Test Loss: 0.2392154484987259 \n",
            "Epoch: 200 | MAE Train Loss: 0.08973254263401031 | MAE Test Loss: 0.22795839607715607 \n",
            "Epoch: 210 | MAE Train Loss: 0.08306284993886948 | MAE Test Loss: 0.21740305423736572 \n",
            "Epoch: 220 | MAE Train Loss: 0.07729282230138779 | MAE Test Loss: 0.20750825107097626 \n",
            "Epoch: 230 | MAE Train Loss: 0.07242877781391144 | MAE Test Loss: 0.19840054214000702 \n",
            "Epoch: 240 | MAE Train Loss: 0.06828799843788147 | MAE Test Loss: 0.18992407619953156 \n",
            "Epoch: 250 | MAE Train Loss: 0.06476505100727081 | MAE Test Loss: 0.18208928406238556 \n",
            "Epoch: 260 | MAE Train Loss: 0.06174134090542793 | MAE Test Loss: 0.17478716373443604 \n",
            "Epoch: 270 | MAE Train Loss: 0.05915876477956772 | MAE Test Loss: 0.16802480816841125 \n",
            "Epoch: 280 | MAE Train Loss: 0.0569603331387043 | MAE Test Loss: 0.161748006939888 \n",
            "Epoch: 290 | MAE Train Loss: 0.05514555424451828 | MAE Test Loss: 0.15608695149421692 \n",
            "Epoch: 300 | MAE Train Loss: 0.05357731133699417 | MAE Test Loss: 0.15086300671100616 \n",
            "Epoch: 310 | MAE Train Loss: 0.05218071490526199 | MAE Test Loss: 0.14595307409763336 \n",
            "Epoch: 320 | MAE Train Loss: 0.05105169489979744 | MAE Test Loss: 0.1415499746799469 \n",
            "Epoch: 330 | MAE Train Loss: 0.050030313432216644 | MAE Test Loss: 0.1374681293964386 \n",
            "Epoch: 340 | MAE Train Loss: 0.049160152673721313 | MAE Test Loss: 0.13370750844478607 \n",
            "Epoch: 350 | MAE Train Loss: 0.04836020991206169 | MAE Test Loss: 0.13020753860473633 \n",
            "Epoch: 360 | MAE Train Loss: 0.04769856110215187 | MAE Test Loss: 0.12709848582744598 \n",
            "Epoch: 370 | MAE Train Loss: 0.04703690856695175 | MAE Test Loss: 0.12398938834667206 \n",
            "Epoch: 380 | MAE Train Loss: 0.04650093987584114 | MAE Test Loss: 0.12147434055805206 \n",
            "Epoch: 390 | MAE Train Loss: 0.045996345579624176 | MAE Test Loss: 0.11902527511119843 \n",
            "Epoch: 400 | MAE Train Loss: 0.04549176245927811 | MAE Test Loss: 0.11657620966434479 \n",
            "Epoch: 410 | MAE Train Loss: 0.045014552772045135 | MAE Test Loss: 0.11432783305644989 \n",
            "Epoch: 420 | MAE Train Loss: 0.04461454600095749 | MAE Test Loss: 0.11254779994487762 \n",
            "Epoch: 430 | MAE Train Loss: 0.04421453922986984 | MAE Test Loss: 0.11076776683330536 \n",
            "Epoch: 440 | MAE Train Loss: 0.043814532458782196 | MAE Test Loss: 0.1089877337217331 \n",
            "Epoch: 450 | MAE Train Loss: 0.04341452196240425 | MAE Test Loss: 0.10720770061016083 \n",
            "Epoch: 460 | MAE Train Loss: 0.043014515191316605 | MAE Test Loss: 0.10542766749858856 \n",
            "Epoch: 470 | MAE Train Loss: 0.04265119880437851 | MAE Test Loss: 0.10419009625911713 \n",
            "Epoch: 480 | MAE Train Loss: 0.04230218380689621 | MAE Test Loss: 0.1030881255865097 \n",
            "Epoch: 490 | MAE Train Loss: 0.04195316880941391 | MAE Test Loss: 0.10198615491390228 \n",
            "Epoch: 500 | MAE Train Loss: 0.04160415381193161 | MAE Test Loss: 0.10088418424129486 \n",
            "Epoch: 510 | MAE Train Loss: 0.04125513881444931 | MAE Test Loss: 0.09978221356868744 \n",
            "Epoch: 520 | MAE Train Loss: 0.04090612381696701 | MAE Test Loss: 0.09868024289608002 \n",
            "Epoch: 530 | MAE Train Loss: 0.04055710881948471 | MAE Test Loss: 0.0975782722234726 \n",
            "Epoch: 540 | MAE Train Loss: 0.04020809382200241 | MAE Test Loss: 0.09647630155086517 \n",
            "Epoch: 550 | MAE Train Loss: 0.03985908254981041 | MAE Test Loss: 0.09537436813116074 \n",
            "Epoch: 560 | MAE Train Loss: 0.03951007127761841 | MAE Test Loss: 0.09427239745855331 \n",
            "Epoch: 570 | MAE Train Loss: 0.03916105255484581 | MAE Test Loss: 0.09317042678594589 \n",
            "Epoch: 580 | MAE Train Loss: 0.03881204128265381 | MAE Test Loss: 0.09206845611333847 \n",
            "Epoch: 590 | MAE Train Loss: 0.03846302255988121 | MAE Test Loss: 0.09096648544073105 \n",
            "Epoch: 600 | MAE Train Loss: 0.03811401128768921 | MAE Test Loss: 0.08986451476812363 \n",
            "Epoch: 610 | MAE Train Loss: 0.03776499256491661 | MAE Test Loss: 0.0887625440955162 \n",
            "Epoch: 620 | MAE Train Loss: 0.03741598129272461 | MAE Test Loss: 0.08766057342290878 \n",
            "Epoch: 630 | MAE Train Loss: 0.037067197263240814 | MAE Test Loss: 0.08662726730108261 \n",
            "Epoch: 640 | MAE Train Loss: 0.03672432154417038 | MAE Test Loss: 0.08579986542463303 \n",
            "Epoch: 650 | MAE Train Loss: 0.03638043254613876 | MAE Test Loss: 0.08497253060340881 \n",
            "Epoch: 660 | MAE Train Loss: 0.036036938428878784 | MAE Test Loss: 0.08421380817890167 \n",
            "Epoch: 670 | MAE Train Loss: 0.035693906247615814 | MAE Test Loss: 0.08338643610477448 \n",
            "Epoch: 680 | MAE Train Loss: 0.035350002348423004 | MAE Test Loss: 0.08255907148122787 \n",
            "Epoch: 690 | MAE Train Loss: 0.035006679594516754 | MAE Test Loss: 0.08180035650730133 \n",
            "Epoch: 700 | MAE Train Loss: 0.03466346859931946 | MAE Test Loss: 0.08097299933433533 \n",
            "Epoch: 710 | MAE Train Loss: 0.03431956097483635 | MAE Test Loss: 0.08014564216136932 \n",
            "Epoch: 720 | MAE Train Loss: 0.03397642448544502 | MAE Test Loss: 0.07938691228628159 \n",
            "Epoch: 730 | MAE Train Loss: 0.0336330309510231 | MAE Test Loss: 0.07855955511331558 \n",
            "Epoch: 740 | MAE Train Loss: 0.03328912332653999 | MAE Test Loss: 0.07773219794034958 \n",
            "Epoch: 750 | MAE Train Loss: 0.032946161925792694 | MAE Test Loss: 0.07697348296642303 \n",
            "Epoch: 760 | MAE Train Loss: 0.03260258957743645 | MAE Test Loss: 0.07614611089229584 \n",
            "Epoch: 770 | MAE Train Loss: 0.0322587676346302 | MAE Test Loss: 0.07538740336894989 \n",
            "Epoch: 780 | MAE Train Loss: 0.031915903091430664 | MAE Test Loss: 0.07456003129482269 \n",
            "Epoch: 790 | MAE Train Loss: 0.031572166830301285 | MAE Test Loss: 0.07373266667127609 \n",
            "Epoch: 800 | MAE Train Loss: 0.03122851625084877 | MAE Test Loss: 0.07297395914793015 \n",
            "Epoch: 810 | MAE Train Loss: 0.03088562563061714 | MAE Test Loss: 0.07214658707380295 \n",
            "Epoch: 820 | MAE Train Loss: 0.03054172359406948 | MAE Test Loss: 0.07131922990083694 \n",
            "Epoch: 830 | MAE Train Loss: 0.030198251828551292 | MAE Test Loss: 0.0705605149269104 \n",
            "Epoch: 840 | MAE Train Loss: 0.029855191707611084 | MAE Test Loss: 0.0697331428527832 \n",
            "Epoch: 850 | MAE Train Loss: 0.029511287808418274 | MAE Test Loss: 0.0689057856798172 \n",
            "Epoch: 860 | MAE Train Loss: 0.02916799485683441 | MAE Test Loss: 0.06814707070589066 \n",
            "Epoch: 870 | MAE Train Loss: 0.028824755921959877 | MAE Test Loss: 0.06731969118118286 \n",
            "Epoch: 880 | MAE Train Loss: 0.02848084643483162 | MAE Test Loss: 0.06649234890937805 \n",
            "Epoch: 890 | MAE Train Loss: 0.02813773788511753 | MAE Test Loss: 0.06573362648487091 \n",
            "Epoch: 900 | MAE Train Loss: 0.027794325724244118 | MAE Test Loss: 0.06490625441074371 \n",
            "Epoch: 910 | MAE Train Loss: 0.02745041623711586 | MAE Test Loss: 0.06407888978719711 \n",
            "Epoch: 920 | MAE Train Loss: 0.0271074827760458 | MAE Test Loss: 0.06332017481327057 \n",
            "Epoch: 930 | MAE Train Loss: 0.026763886213302612 | MAE Test Loss: 0.062492817640304565 \n",
            "Epoch: 940 | MAE Train Loss: 0.02642008289694786 | MAE Test Loss: 0.06173409894108772 \n",
            "Epoch: 950 | MAE Train Loss: 0.02607722207903862 | MAE Test Loss: 0.06090673804283142 \n",
            "Epoch: 960 | MAE Train Loss: 0.025733450427651405 | MAE Test Loss: 0.06007937341928482 \n",
            "Epoch: 970 | MAE Train Loss: 0.02538982965052128 | MAE Test Loss: 0.05932066589593887 \n",
            "Epoch: 980 | MAE Train Loss: 0.02504691109061241 | MAE Test Loss: 0.058493297547101974 \n",
            "Epoch: 990 | MAE Train Loss: 0.0247030109167099 | MAE Test Loss: 0.057665932923555374 \n",
            "Epoch: 1000 | MAE Train Loss: 0.02435956709086895 | MAE Test Loss: 0.05690721794962883 \n",
            "Epoch: 1010 | MAE Train Loss: 0.024016480892896652 | MAE Test Loss: 0.05607985332608223 \n",
            "Epoch: 1020 | MAE Train Loss: 0.02367258258163929 | MAE Test Loss: 0.055252473801374435 \n",
            "Epoch: 1030 | MAE Train Loss: 0.023329313844442368 | MAE Test Loss: 0.054493773728609085 \n",
            "Epoch: 1040 | MAE Train Loss: 0.022986043244600296 | MAE Test Loss: 0.05366641283035278 \n",
            "Epoch: 1050 | MAE Train Loss: 0.022642139345407486 | MAE Test Loss: 0.05283904820680618 \n",
            "Epoch: 1060 | MAE Train Loss: 0.02229905314743519 | MAE Test Loss: 0.05208033323287964 \n",
            "Epoch: 1070 | MAE Train Loss: 0.02195560745894909 | MAE Test Loss: 0.05125296115875244 \n",
            "Epoch: 1080 | MAE Train Loss: 0.021611705422401428 | MAE Test Loss: 0.05042559653520584 \n",
            "Epoch: 1090 | MAE Train Loss: 0.021268798038363457 | MAE Test Loss: 0.0496668815612793 \n",
            "Epoch: 1100 | MAE Train Loss: 0.02092517353594303 | MAE Test Loss: 0.0488395169377327 \n",
            "Epoch: 1110 | MAE Train Loss: 0.020581401884555817 | MAE Test Loss: 0.04808080196380615 \n",
            "Epoch: 1120 | MAE Train Loss: 0.020238537341356277 | MAE Test Loss: 0.047253452241420746 \n",
            "Epoch: 1130 | MAE Train Loss: 0.019894743338227272 | MAE Test Loss: 0.04642607644200325 \n",
            "Epoch: 1140 | MAE Train Loss: 0.019551146775484085 | MAE Test Loss: 0.0456673689186573 \n",
            "Epoch: 1150 | MAE Train Loss: 0.019208211451768875 | MAE Test Loss: 0.04483998939394951 \n",
            "Epoch: 1160 | MAE Train Loss: 0.018864300101995468 | MAE Test Loss: 0.044012635946273804 \n",
            "Epoch: 1170 | MAE Train Loss: 0.018520886078476906 | MAE Test Loss: 0.04325391724705696 \n",
            "Epoch: 1180 | MAE Train Loss: 0.01817776821553707 | MAE Test Loss: 0.04242655634880066 \n",
            "Epoch: 1190 | MAE Train Loss: 0.01783386431634426 | MAE Test Loss: 0.04159919545054436 \n",
            "Epoch: 1200 | MAE Train Loss: 0.017490629106760025 | MAE Test Loss: 0.04084048420190811 \n",
            "Epoch: 1210 | MAE Train Loss: 0.017147328704595566 | MAE Test Loss: 0.040013112127780914 \n",
            "Epoch: 1220 | MAE Train Loss: 0.016803432255983353 | MAE Test Loss: 0.03918575122952461 \n",
            "Epoch: 1230 | MAE Train Loss: 0.016460370272397995 | MAE Test Loss: 0.03842703625559807 \n",
            "Epoch: 1240 | MAE Train Loss: 0.016116898506879807 | MAE Test Loss: 0.03759966418147087 \n",
            "Epoch: 1250 | MAE Train Loss: 0.015772998332977295 | MAE Test Loss: 0.036772288382053375 \n",
            "Epoch: 1260 | MAE Train Loss: 0.01543011236935854 | MAE Test Loss: 0.03601359575986862 \n",
            "Epoch: 1270 | MAE Train Loss: 0.015086461789906025 | MAE Test Loss: 0.03518623113632202 \n",
            "Epoch: 1280 | MAE Train Loss: 0.014742719009518623 | MAE Test Loss: 0.03442750498652458 \n",
            "Epoch: 1290 | MAE Train Loss: 0.014399850741028786 | MAE Test Loss: 0.03360014408826828 \n",
            "Epoch: 1300 | MAE Train Loss: 0.014056024141609669 | MAE Test Loss: 0.03277278691530228 \n",
            "Epoch: 1310 | MAE Train Loss: 0.013712462969124317 | MAE Test Loss: 0.03201407939195633 \n",
            "Epoch: 1320 | MAE Train Loss: 0.013369491323828697 | MAE Test Loss: 0.031186699867248535 \n",
            "Epoch: 1330 | MAE Train Loss: 0.01302559394389391 | MAE Test Loss: 0.030359338968992233 \n",
            "Epoch: 1340 | MAE Train Loss: 0.012682202272117138 | MAE Test Loss: 0.029600614681839943 \n",
            "Epoch: 1350 | MAE Train Loss: 0.012339059263467789 | MAE Test Loss: 0.028773266822099686 \n",
            "Epoch: 1360 | MAE Train Loss: 0.011995160952210426 | MAE Test Loss: 0.02794589474797249 \n",
            "Epoch: 1370 | MAE Train Loss: 0.011651946231722832 | MAE Test Loss: 0.02718718722462654 \n",
            "Epoch: 1380 | MAE Train Loss: 0.011308628134429455 | MAE Test Loss: 0.026359815150499344 \n",
            "Epoch: 1390 | MAE Train Loss: 0.010964717715978622 | MAE Test Loss: 0.025532448664307594 \n",
            "Epoch: 1400 | MAE Train Loss: 0.010621682740747929 | MAE Test Loss: 0.0247737355530262 \n",
            "Epoch: 1410 | MAE Train Loss: 0.010278185829520226 | MAE Test Loss: 0.023946374654769897 \n",
            "Epoch: 1420 | MAE Train Loss: 0.009934291243553162 | MAE Test Loss: 0.023187648504972458 \n",
            "Epoch: 1430 | MAE Train Loss: 0.009591431356966496 | MAE Test Loss: 0.0223603006452322 \n",
            "Epoch: 1440 | MAE Train Loss: 0.00924774818122387 | MAE Test Loss: 0.021532922983169556 \n",
            "Epoch: 1450 | MAE Train Loss: 0.008904037065804005 | MAE Test Loss: 0.020774226635694504 \n",
            "Epoch: 1460 | MAE Train Loss: 0.008561169728636742 | MAE Test Loss: 0.019946854561567307 \n",
            "Epoch: 1470 | MAE Train Loss: 0.008217317052185535 | MAE Test Loss: 0.01911948248744011 \n",
            "Epoch: 1480 | MAE Train Loss: 0.007873778231441975 | MAE Test Loss: 0.018360769376158714 \n",
            "Epoch: 1490 | MAE Train Loss: 0.0075307851657271385 | MAE Test Loss: 0.01753341034054756 \n",
            "Epoch: 1500 | MAE Train Loss: 0.007186878472566605 | MAE Test Loss: 0.01670604944229126 \n",
            "Epoch: 1510 | MAE Train Loss: 0.006843519397079945 | MAE Test Loss: 0.01594732329249382 \n",
            "Epoch: 1520 | MAE Train Loss: 0.006500349845737219 | MAE Test Loss: 0.015119964256882668 \n",
            "Epoch: 1530 | MAE Train Loss: 0.006156443618237972 | MAE Test Loss: 0.014292603358626366 \n",
            "Epoch: 1540 | MAE Train Loss: 0.005813261028379202 | MAE Test Loss: 0.013533895835280418 \n",
            "Epoch: 1550 | MAE Train Loss: 0.005469909869134426 | MAE Test Loss: 0.012706518173217773 \n",
            "Epoch: 1560 | MAE Train Loss: 0.0051260096952319145 | MAE Test Loss: 0.011879158206284046 \n",
            "Epoch: 1570 | MAE Train Loss: 0.004782737232744694 | MAE Test Loss: 0.011086148209869862 \n",
            "Epoch: 1580 | MAE Train Loss: 0.004439301788806915 | MAE Test Loss: 0.010327416472136974 \n",
            "Epoch: 1590 | MAE Train Loss: 0.004096207674592733 | MAE Test Loss: 0.0095000509172678 \n",
            "Epoch: 1600 | MAE Train Loss: 0.003752306802198291 | MAE Test Loss: 0.008672690019011497 \n",
            "Epoch: 1610 | MAE Train Loss: 0.0034090480767190456 | MAE Test Loss: 0.007913952693343163 \n",
            "Epoch: 1620 | MAE Train Loss: 0.0030657730530947447 | MAE Test Loss: 0.007086604833602905 \n",
            "Epoch: 1630 | MAE Train Loss: 0.0027218691539019346 | MAE Test Loss: 0.006259244866669178 \n",
            "Epoch: 1640 | MAE Train Loss: 0.0023787864483892918 | MAE Test Loss: 0.005500525236129761 \n",
            "Epoch: 1650 | MAE Train Loss: 0.002035337733104825 | MAE Test Loss: 0.004673170857131481 \n",
            "Epoch: 1660 | MAE Train Loss: 0.0016914367442950606 | MAE Test Loss: 0.0038457990158349276 \n",
            "Epoch: 1670 | MAE Train Loss: 0.0013485297095030546 | MAE Test Loss: 0.0030870854388922453 \n",
            "Epoch: 1680 | MAE Train Loss: 0.0010049014817923307 | MAE Test Loss: 0.002259713364765048 \n",
            "Epoch: 1690 | MAE Train Loss: 0.0006616368773393333 | MAE Test Loss: 0.0014667033683508635 \n"
          ]
        }
      ]
    },
    {
      "cell_type": "code",
      "source": [
        "with torch.inference_mode():\n",
        "  y_pred_new = model_0(x_test)\n",
        "plot_predictions(predictions = y_pred_new)"
      ],
      "metadata": {
        "colab": {
          "base_uri": "https://localhost:8080/",
          "height": 461
        },
        "id": "u9FWKk5b0OnP",
        "outputId": "a61bb4f6-b44f-46ca-d006-21c979a0013b"
      },
      "execution_count": null,
      "outputs": [
        {
          "output_type": "display_data",
          "data": {
            "text/plain": [
              "<Figure size 1000x700 with 1 Axes>"
            ],
            "image/png": "[encoded data removed]"
          },
          "metadata": {}
        }
      ]
    },
    {
      "cell_type": "code",
      "source": [
        "# Plot the loss curves\n",
        "plt.plot(epoch_count, train_loss_values, label=\"Train loss\")\n",
        "plt.plot(epoch_count, test_loss_values, label=\"Test loss\")\n",
        "plt.title(\"Training and test loss curves\")\n",
        "plt.ylabel(\"Loss\")\n",
        "plt.xlabel(\"Epochs\")\n",
        "plt.legend();"
      ],
      "metadata": {
        "colab": {
          "base_uri": "https://localhost:8080/",
          "height": 472
        },
        "id": "F9a1L6ha0L3m",
        "outputId": "071e271f-292b-4f41-dbca-dd8b6479acae"
      },
      "execution_count": null,
      "outputs": [
        {
          "output_type": "display_data",
          "data": {
            "text/plain": [
              "<Figure size 640x480 with 1 Axes>"
            ],
            "image/png": "[encoded data removed]"
          },
          "metadata": {}
        }
      ]
    },
    {
      "cell_type": "code",
      "source": [],
      "metadata": {
        "id": "tWnNhZzN0zfc"
      },
      "execution_count": null,
      "outputs": []
    }
  ]
}